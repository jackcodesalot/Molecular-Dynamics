{
 "cells": [
  {
   "cell_type": "code",
   "execution_count": 8,
   "id": "3e6f2315-cad0-473b-9021-1bac139bad0a",
   "metadata": {},
   "outputs": [
    {
     "ename": "ModuleNotFoundError",
     "evalue": "No module named 'matplotlib'",
     "output_type": "error",
     "traceback": [
      "\u001b[0;31m---------------------------------------------------------------------------\u001b[0m",
      "\u001b[0;31mModuleNotFoundError\u001b[0m                       Traceback (most recent call last)",
      "Cell \u001b[0;32mIn[8], line 3\u001b[0m\n\u001b[1;32m      1\u001b[0m \u001b[38;5;28;01mimport\u001b[39;00m \u001b[38;5;21;01mnumpy\u001b[39;00m \u001b[38;5;28;01mas\u001b[39;00m \u001b[38;5;21;01mnp\u001b[39;00m \u001b[38;5;66;03m#useful for data analysis\u001b[39;00m\n\u001b[1;32m      2\u001b[0m \u001b[38;5;28;01mimport\u001b[39;00m \u001b[38;5;21;01mos\u001b[39;00m \u001b[38;5;66;03m#useful for allowing us to access operating system\u001b[39;00m\n\u001b[0;32m----> 3\u001b[0m \u001b[38;5;28;01mimport\u001b[39;00m \u001b[38;5;21;01mmatplotlib\u001b[39;00m\u001b[38;5;21;01m.\u001b[39;00m\u001b[38;5;21;01mpyplot\u001b[39;00m \u001b[38;5;28;01mas\u001b[39;00m \u001b[38;5;21;01mplt\u001b[39;00m \u001b[38;5;66;03m#useful for visualization\u001b[39;00m\n",
      "\u001b[0;31mModuleNotFoundError\u001b[0m: No module named 'matplotlib'"
     ]
    }
   ],
   "source": [
    "import numpy as np #useful for data analysis\n",
    "import os #useful for allowing us to access operating system\n",
    "import matplotlib.pyplot as plt #useful for visualization"
   ]
  },
  {
   "cell_type": "markdown",
   "id": "23a7f383-3151-48d6-9273-12bc092a7901",
   "metadata": {},
   "source": [
    "Imported necessary libraries"
   ]
  },
  {
   "cell_type": "code",
   "execution_count": 4,
   "id": "f2d19341-aa2b-41dd-a9f2-99ab6facd276",
   "metadata": {},
   "outputs": [],
   "source": [
    "stem = np.loadtxt('rmsd.stem.allatoms.dat')\n",
    "index = 10"
   ]
  },
  {
   "cell_type": "markdown",
   "id": "c70894cb-165d-4202-ade5-c7e77252c054",
   "metadata": {},
   "source": [
    "Load stem file and index variable (which condenses x axis)"
   ]
  },
  {
   "cell_type": "code",
   "execution_count": 5,
   "id": "9df9ebc2-4efb-493a-9ec9-dc7e14df3a6c",
   "metadata": {},
   "outputs": [
    {
     "ename": "NameError",
     "evalue": "name 'plt' is not defined",
     "output_type": "error",
     "traceback": [
      "\u001b[0;31m---------------------------------------------------------------------------\u001b[0m",
      "\u001b[0;31mNameError\u001b[0m                                 Traceback (most recent call last)",
      "Cell \u001b[0;32mIn[5], line 3\u001b[0m\n\u001b[1;32m      1\u001b[0m stem_x \u001b[38;5;241m=\u001b[39m stem[:,  \u001b[38;5;241m0\u001b[39m]\n\u001b[1;32m      2\u001b[0m stem_y \u001b[38;5;241m=\u001b[39m stem[:, \u001b[38;5;241m1\u001b[39m]\n\u001b[0;32m----> 3\u001b[0m \u001b[43mplt\u001b[49m\u001b[38;5;241m.\u001b[39mplot(stem_x \u001b[38;5;241m/\u001b[39m index, stem_y, \u001b[38;5;124m'\u001b[39m\u001b[38;5;124mred\u001b[39m\u001b[38;5;124m'\u001b[39m)\n",
      "\u001b[0;31mNameError\u001b[0m: name 'plt' is not defined"
     ]
    }
   ],
   "source": [
    "stem_x = stem[:,  0]\n",
    "stem_y = stem[:, 1]\n",
    "plt.plot(stem_x / index, stem_y, 'red')"
   ]
  },
  {
   "cell_type": "code",
   "execution_count": null,
   "id": "291c14c6-8ee6-44c0-aac4-23825ae7b0a5",
   "metadata": {},
   "outputs": [],
   "source": []
  },
  {
   "cell_type": "code",
   "execution_count": null,
   "id": "51ddbc12-cb00-48bb-b3f3-ec9c90104514",
   "metadata": {},
   "outputs": [],
   "source": []
  }
 ],
 "metadata": {
  "kernelspec": {
   "display_name": "Python 3 (ipykernel)",
   "language": "python",
   "name": "python3"
  },
  "language_info": {
   "codemirror_mode": {
    "name": "ipython",
    "version": 3
   },
   "file_extension": ".py",
   "mimetype": "text/x-python",
   "name": "python",
   "nbconvert_exporter": "python",
   "pygments_lexer": "ipython3",
   "version": "3.13.1"
  }
 },
 "nbformat": 4,
 "nbformat_minor": 5
}
